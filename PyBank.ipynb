{
 "cells": [
  {
   "cell_type": "code",
   "execution_count": 48,
   "metadata": {},
   "outputs": [],
   "source": [
    "#Import Dependencies\n",
    "import os\n",
    "import csv"
   ]
  },
  {
   "cell_type": "code",
   "execution_count": 66,
   "metadata": {},
   "outputs": [],
   "source": [
    "#Variables\n",
    "month_total = 0\n",
    "net_revenue =0\n",
    "changes =[]\n",
    "date_count = []\n",
    "greatest_increase = 0\n",
    "greatest_increase_month = 0\n",
    "greatest_decrease = 0\n",
    "greatest_decrease_month = 0\n",
    "monthly_change = []\n",
    "month_count = []"
   ]
  },
  {
   "cell_type": "code",
   "execution_count": 70,
   "metadata": {},
   "outputs": [
    {
     "name": "stdout",
     "output_type": "stream",
     "text": [
      "Financial Analysis\n",
      "---------------------------\n",
      "Total Months: 344\n",
      "Total: $153530312\n",
      "Average Change: $-2315.12\n",
      "Greatest Increase in Profits:, Feb-2012, ($1926159)\n",
      "Greatest Decrease in Profits:, Sep-2013, ($-2196167)\n"
     ]
    }
   ],
   "source": [
    "#create path\n",
    "csvpath = os.path.join('.', 'PyBank', 'Resources', 'budget_data.csv')\n",
    "\n",
    "# Open/Read csv file\n",
    "with open(csvpath, newline='') as csvfile:\n",
    "    csvreader = csv.reader(csvfile, delimiter=',')\n",
    "    next(csvreader, None)\n",
    "    row = next(csvreader)\n",
    "    previous_row = int(row[1])\n",
    "    month_total += 1\n",
    "    net_revenue += int(row[1])\n",
    "    greatest_increase = int(row[1])\n",
    "    greatest_increase_month = row[0]\n",
    "\n",
    "    for row in csvreader:\n",
    " \n",
    "        month_total = month_total + 1\n",
    "        net_revenue = net_revenue + int(row[1])\n",
    "        h\n",
    "        revenue_change = int(row[1]) - previous_row\n",
    "        monthly_change.append(revenue_change)\n",
    "        previous_row = int(row[1])\n",
    "        month_count.append(row[0])\n",
    "        \n",
    "        # Calculate Greatest Increase\n",
    "        if int(row[1]) > greatest_increase:\n",
    "            greatest_increase = int(row[1])\n",
    "            greatest_increase_month = row[0]\n",
    "            \n",
    "        # Calculate Greatest Decrease\n",
    "        if int(row[1]) < greatest_decrease:\n",
    "            greatest_decrease = int(row[1])\n",
    "            greatest_decrease_month = row[0]  \n",
    "        \n",
    "    # Calculate Average Date\n",
    "    average_change = sum(monthly_change)/ len(monthly_change)\n",
    "    \n",
    "    highest = max(monthly_change)\n",
    "    lowest = min(monthly_change)\n",
    "# Print Analysis\n",
    "print(f\"Financial Analysis\")\n",
    "print(f\"---------------------------\")\n",
    "print(f\"Total Months: {month_total}\")\n",
    "print(f\"Total: ${net_revenue}\")\n",
    "print(f\"Average Change: ${average_change:.2f}\")\n",
    "print(f\"Greatest Increase in Profits:, {greatest_increase_month}, (${highest})\")\n",
    "print(f\"Greatest Decrease in Profits:, {greatest_decrease_month}, (${lowest})\")\n",
    "\n",
    "# Specify File To Write To\n",
    "output_file = os.path.join('.', 'PyBank', 'Resources', 'budget_data_revised.text')\n",
    "\n",
    "       "
   ]
  },
  {
   "cell_type": "code",
   "execution_count": null,
   "metadata": {},
   "outputs": [],
   "source": []
  },
  {
   "cell_type": "code",
   "execution_count": null,
   "metadata": {},
   "outputs": [],
   "source": []
  },
  {
   "cell_type": "code",
   "execution_count": null,
   "metadata": {},
   "outputs": [],
   "source": []
  }
 ],
 "metadata": {
  "kernelspec": {
   "display_name": "Python 3",
   "language": "python",
   "name": "python3"
  },
  "language_info": {
   "codemirror_mode": {
    "name": "ipython",
    "version": 3
   },
   "file_extension": ".py",
   "mimetype": "text/x-python",
   "name": "python",
   "nbconvert_exporter": "python",
   "pygments_lexer": "ipython3",
   "version": "3.7.4"
  }
 },
 "nbformat": 4,
 "nbformat_minor": 4
}
