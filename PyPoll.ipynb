{
 "cells": [
  {
   "cell_type": "code",
   "execution_count": 4,
   "metadata": {},
   "outputs": [],
   "source": [
    "# Import Modules/Dependencies\n",
    "import os\n",
    "import csv"
   ]
  },
  {
   "cell_type": "code",
   "execution_count": 7,
   "metadata": {},
   "outputs": [],
   "source": [
    "# Variables\n",
    "OTooley_votes = 0\n",
    "Khan_votes = 0\n",
    "Correy_votes = 0\n",
    "Li_votes = 0\n",
    "total_votes = 0\n"
   ]
  },
  {
   "cell_type": "code",
   "execution_count": 8,
   "metadata": {},
   "outputs": [],
   "source": [
    "# Set Path \n",
    "csvpath = os.path.join('.', 'PyPoll', 'Resources', 'election_data.csv')\n",
    "\n",
    "# Open/Read cvs\n",
    "with open(csvpath, newline='') as csvfile:\n",
    "\n",
    "    # csv_reader \n",
    "    csvreader = csv.reader(csvfile, delimiter=',')\n",
    "    csv_header = next(csvfile)\n",
    "    for row in csvreader:\n",
    "        \n",
    "        # Total votes cast\n",
    "        total_votes = total_votes + 1\n",
    "        #total_votes += 1\n",
    "        \n",
    "        # Total Per Candidate\n",
    "        if (row[2] == \"Khan\"):\n",
    "            Khan_votes += 1\n",
    "        elif (row[2] == \"Correy\"):\n",
    "            Correy_votes += 1\n",
    "        elif (row[2] == \"Li\"):\n",
    "            Li_votes += 1\n",
    "        else:\n",
    "            OTooley_votes += 1\n",
    "            \n",
    "    # Percentage Of Votes Per Candidate\n",
    "    Kahn_percent = Khan_votes / total_votes\n",
    "    Correy_percent = Correy_votes / total_votes\n",
    "    Li_percent = Li_votes / total_votes\n",
    "    OTooley_percent = OTooley_votes / total_votes\n",
    "    \n",
    "    # Winner By Most Votes\n",
    "    winner = max(khan_votes, correy_votes, li_votes, otooley_votes)\n",
    "\n",
    "    if winner == khan_votes:\n",
    "        winner_name = \"Khan\"\n",
    "    elif winner == correy_votes:\n",
    "        winner_name = \"Correy\"\n",
    "    elif winner == li_votes:\n",
    "        winner_name = \"Li\"\n",
    "    else:\n",
    "        winner_name = \"O'Tooley\" "
   ]
  },
  {
   "cell_type": "code",
   "execution_count": 19,
   "metadata": {},
   "outputs": [
    {
     "name": "stdout",
     "output_type": "stream",
     "text": [
      "Election Results\n",
      "------------------------\n",
      "Total Votes: 3521001\n",
      "------------------------\n",
      "Kahn: 63.00%(2218231)\n",
      "Correy: 20.00%(704200)\n",
      "Li: 14.00%(492940)\n",
      "O'Tooley: 3.00%(105630)\n",
      "------------------------\n",
      "Winner: Khan\n",
      "------------------------\n"
     ]
    }
   ],
   "source": [
    "# Analysis\n",
    "print(f\"Election Results\")\n",
    "print(\"------------------------\")\n",
    "print(f\"Total Votes: {total_votes}\")\n",
    "print(\"------------------------\")\n",
    "print(f\"Kahn: {kahn_percent:.2%}({khan_votes})\")\n",
    "print(f\"Correy: {correy_percent:.2%}({correy_votes})\")\n",
    "print(f\"Li: {li_percent:.2%}({li_votes})\")\n",
    "print(f\"O'Tooley: {otooley_percent:.2%}({otooley_votes})\")\n",
    "print(f\"------------------------\")\n",
    "print(f\"Winner: {winner_name}\")\n",
    "print(\"------------------------\")\n",
    "\n",
    "# Specify File To Write To\n",
    "output_file = os.path.join('.', 'PyPoll', 'Resources', 'election_data_revised.text')\n",
    "\n"
   ]
  },
  {
   "cell_type": "code",
   "execution_count": null,
   "metadata": {},
   "outputs": [],
   "source": []
  }
 ],
 "metadata": {
  "kernelspec": {
   "display_name": "Python 3",
   "language": "python",
   "name": "python3"
  },
  "language_info": {
   "codemirror_mode": {
    "name": "ipython",
    "version": 3
   },
   "file_extension": ".py",
   "mimetype": "text/x-python",
   "name": "python",
   "nbconvert_exporter": "python",
   "pygments_lexer": "ipython3",
   "version": "3.7.4"
  }
 },
 "nbformat": 4,
 "nbformat_minor": 4
}
